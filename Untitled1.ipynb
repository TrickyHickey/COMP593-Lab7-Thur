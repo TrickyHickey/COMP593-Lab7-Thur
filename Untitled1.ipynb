{
  "nbformat": 4,
  "nbformat_minor": 0,
  "metadata": {
    "colab": {
      "name": "Untitled1.ipynb",
      "provenance": [],
      "authorship_tag": "ABX9TyO38SkftW5bG+o1PF4QIZ7/",
      "include_colab_link": true
    },
    "kernelspec": {
      "name": "python3",
      "display_name": "Python 3"
    },
    "language_info": {
      "name": "python"
    }
  },
  "cells": [
    {
      "cell_type": "markdown",
      "metadata": {
        "id": "view-in-github",
        "colab_type": "text"
      },
      "source": [
        "<a href=\"https://colab.research.google.com/github/TrickyHickey/COMP593-Lab7-Thur/blob/main/Untitled1.ipynb\" target=\"_parent\"><img src=\"https://colab.research.google.com/assets/colab-badge.svg\" alt=\"Open In Colab\"/></a>"
      ]
    },
    {
      "cell_type": "code",
      "execution_count": null,
      "metadata": {
        "id": "OJA4QgH7kMbc"
      },
      "outputs": [],
      "source": [
        "from tempfile import tempdir\n",
        "\n",
        "\n",
        "def main():\n",
        "\n",
        "    me_info = {\n",
        "        'name': 'Josiah', \n",
        "        'student_ID': 10243852,\n",
        "        'pizza_toppings': ['mushrooms', 'pepperoni', 'bacon'],\n",
        "        'movies': [\n",
        "            {'movie': 'Game of Thrones',\n",
        "            'genre': \"drama\",\n",
        "            },\n",
        "            {'movie': 'Dracula untold',\n",
        "            'genre': 'fantasy',\n",
        "\n",
        "            }\n",
        "        ]\n",
        "    }\n",
        "\n",
        "    extra_movie = {'movie': 'aganst the ice', 'genre': 'adventure'}\n",
        "\n",
        "    me_info['movies'].append(extra_movie)\n",
        "\n",
        "    even_more_pizza_toppings = ('sausage', 'cheese', 'ketchup')\n",
        "    add_new_toppings(me_info, even_more_pizza_toppings)\n",
        "\n",
        "    print_about_me(me_info)\n",
        "    pass\n",
        "\n",
        "def add_new_toppings(me, toppings):\n",
        "    for t in toppings:\n",
        "        me['pizza_toppings'].append(t)\n",
        "\n",
        "def print_about_me(me_data):\n",
        "\n",
        "    #printing my name, student ID, and pizza toppings\n",
        "    print(\"Hi Joe, my name is \" + me_data['name'] + \", and my student ID is \" + str(me_data['student_ID']))\n",
        "    print('My ideal pizza has ', end='')\n",
        "    for p in me_data['pizza_toppings']:\n",
        "        print(p, end=', ')\n",
        "\n",
        "    words = ('\\nI like to watch ')\n",
        "    for a,s in enumerate(me_data['movies']):\n",
        "        words += s['genre']\n",
        "        if a < len(me_data['movies']) - 1:\n",
        "            words += ', '\n",
        "        else: \n",
        "            words += '. '\n",
        "    print(words)\n",
        "\n",
        "    #printing movies I like to watch\n",
        "    sentence = ('Some of my favourites are ')\n",
        "    for i,m in enumerate(me_data['movies']):\n",
        "        sentence += m['movie']\n",
        "        if i < len(me_data['movies']) - 1:\n",
        "            sentence += ', '\n",
        "        else: \n",
        "            sentence += '. '\n",
        "    print(sentence)\n",
        " \n",
        "    \n",
        "\n",
        "main()"
      ]
    }
  ]
}